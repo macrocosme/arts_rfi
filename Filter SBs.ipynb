{
 "cells": [
  {
   "cell_type": "markdown",
   "metadata": {},
   "source": [
    "```bash\t\t\t\t\t\t\n",
    "\tNAME\tDM [pc cm**-3]\tS/N (AMBER)\tRA\tDEC\tPOINTING NAME\tCB Found\n",
    "\t\t\t\t\t\t\t\n",
    "1\tFRB 190709\t663.4\t15.4\t01h36m06.7s\t+31d51m22.8s\t3C48drift2732\t10\n",
    "2\tFRB 190903\t663.8\t10.8\t01h32m43.2805s\t+33d04m48.9206s\t\t4\n",
    "3\tFRB 190925\t956.7\t12.9\t01h41m49.s\t+30d59m24.4s\t\t7\n",
    "4\tFRB 191020\t465\t13.2\t20h30m52 \t+61d58m47s\tT2029+6307\t5\n",
    "5\tFRB 191108\t587\t60\t01h33m57.35s\t+31d45m38s\tFRBfield\t21\n",
    "6\tFRB 191109\t531\t13\t20:33:51\t61:46:30\tFRB191020\t18\n",
    "```"
   ]
  },
  {
   "cell_type": "code",
   "execution_count": null,
   "metadata": {},
   "outputs": [],
   "source": [
    "%load_ext autoreload\n",
    "%autoreload 2\n",
    "%config InlineBackend.figure_format='retina'\n",
    "\n",
    "import pandas as pd\n",
    "import numpy as np\n",
    "from numpy.fft import rfft, irfft\n",
    "from scipy.signal import find_peaks\n",
    "import copy\n",
    "import matplotlib.pyplot as plt\n",
    "\n",
    "import os\n",
    "\n",
    "from filter import *\n",
    "\n",
    "load_data = True"
   ]
  },
  {
   "cell_type": "code",
   "execution_count": null,
   "metadata": {
    "scrolled": false
   },
   "outputs": [],
   "source": [
    "def fix(trig):\n",
    "    nans, x = nan_helper(trig)\n",
    "    trig[nans] = np.interp(x(nans), x(~nans), trig[~nans])\n",
    "    return trig\n",
    "\n",
    "def normalize(trig, z=False): \n",
    "    if z:\n",
    "        return (trig - np.mean(trig))/trig.std()\n",
    "    else:\n",
    "        return (trig-trig.min())/(trig.max()-trig.min())\n",
    "    \n",
    "def remove_dc(trig):\n",
    "    return trig - np.mean(trig)\n",
    "\n",
    "def convolve(trig):\n",
    "    def abs2(x):\n",
    "        return x.real**2 + x.imag**2\n",
    "    return irfft(abs2(rfft(trig, norm=\"ortho\")), norm=\"ortho\")\n",
    "\n",
    "def get_period(trig, plot=False):\n",
    "    # Number of sample points\n",
    "    N = trig.shape[0]\n",
    "    # sample spacing\n",
    "    T = 1.0 / N\n",
    "\n",
    "    x = np.linspace(0.0, N*T, N)\n",
    "    y = copy.deepcopy(trig)\n",
    "    yf = np.fft.fft(y-y.mean())\n",
    "    xf = np.linspace(0.0, 1.0/(2.0*T), N//2)\n",
    "    \n",
    "    period = int(xf[np.argmax(2.0/N * np.abs(yf[0:N//2]))])\n",
    "\n",
    "    if plot:\n",
    "        plt.figure()\n",
    "        plt.plot(x, y)\n",
    "        plt.figure()\n",
    "        plt.plot(xf, 2.0/N * np.abs(yf[0:N//2]))\n",
    "        plt.axvline(period)\n",
    "\n",
    "    return period, xf, 2.0/N * np.abs(yf[0:N//2])\n",
    "\n",
    "def get_period2(trig, plot=False):\n",
    "    def abs2(x):\n",
    "        return x.real**2 + x.imag**2\n",
    "    \n",
    "#     L = np.round(trig, 1)\n",
    "    # Remove DC component, as proposed by Nils Werner\n",
    "    L = trig - np.mean(trig)\n",
    "    # Window signal\n",
    "#     L *= scipy.signal.windows.hann(len(L))\n",
    "\n",
    "    self_convolved = convolve(L)\n",
    "    self_convolved = self_convolved/self_convolved[0]\n",
    "\n",
    "    if plot:\n",
    "        plt.figure()\n",
    "        plt.plot(self_convolved)\n",
    "\n",
    "    # let's get a max, assuming a least 4 periods...\n",
    "    period_multiple = np.argmax(self_convolved[1:len(L)//4])\n",
    "    Ltrunk = L[0:(len(L)//period_multiple) * period_multiple]\n",
    "\n",
    "    self_convolved = convolve(Ltrunk)\n",
    "    self_convolved = self_convolved / self_convolved[0]\n",
    "\n",
    "    if plot:\n",
    "        plt.figure()\n",
    "        plt.plot(self_convolved)\n",
    "\n",
    "    #get ranges for first min, second max\n",
    "    fmax = np.max(self_convolved[1:len(Ltrunk)//4])\n",
    "    fmin = np.min(self_convolved[1:len(Ltrunk)//4])\n",
    "    xstartmin = 1\n",
    "    while (\n",
    "        self_convolved[xstartmin] > fmin + 0.2 * (fmax-fmin)\n",
    "    ) and (\n",
    "        xstartmin < len(Ltrunk)//4\n",
    "    ):\n",
    "        xstartmin = xstartmin + 1\n",
    "\n",
    "    xstartmax = xstartmin\n",
    "    while (\n",
    "        self_convolved[xstartmax] < fmin + 0.7 * (fmax-fmin)\n",
    "    ) and (\n",
    "        xstartmax < len(Ltrunk)//4\n",
    "    ):\n",
    "        xstartmax=xstartmax+1\n",
    "\n",
    "    xstartmin = xstartmax\n",
    "    while (\n",
    "        self_convolved[xstartmin] > fmin + 0.2 * (fmax-fmin)\n",
    "    ) and (\n",
    "        xstartmin < len(Ltrunk)//4\n",
    "    ):\n",
    "        xstartmin = xstartmin + 1\n",
    "\n",
    "    period = np.argmax(self_convolved[xstartmax:xstartmin]) + xstartmax\n",
    "\n",
    "    return period\n",
    "   \n",
    "def pool_triggers(beams, sigs, times, dms):\n",
    "    triggers = {}\n",
    "\n",
    "    for i, trigger in enumerate(zip(beams, sigs, times, dms)):\n",
    "        trig_beams, trig_sigs, trig_times, trig_dms = trigger\n",
    "        if len(trig_sigs) > 1:\n",
    "            trig, dm = np.empty(71), np.empty(71)\n",
    "            trig[:], dm[:] = 8, 0\n",
    "            for j, sig in enumerate(trig_sigs):\n",
    "                trig[trig_beams[j]] = sig\n",
    "                dm[trig_beams[j]] = trig_dms[j]\n",
    "                trig = fix(trig)\n",
    "                dm = fix(dm)        \n",
    "\n",
    "            triggers[i] = {}\n",
    "            triggers[i]['trigger'] = trig\n",
    "            triggers[i]['time'] = trig_times[0]\n",
    "            triggers[i]['dm'] = dm\n",
    "            try:\n",
    "                triggers[i]['period'] = get_period(trig)\n",
    "            except:\n",
    "                triggers[i]['period'] = None\n",
    "            \n",
    "    return triggers\n",
    "\n",
    "def plot_all(triggers, filename='sb_fft', outpath='images/'):\n",
    "    fig, ax = plt.subplots(1,3, figsize=(10, 10))\n",
    "#     min_dm, max_dm = np.inf, 0\n",
    "#     for i in triggers.keys():\n",
    "#         dm = triggers[i]['dm'][np.argmax(triggers[i]['trigger'])]\n",
    "#         if dm > max_dm:\n",
    "#             max_dm = dm\n",
    "#         if dm < min_dm:\n",
    "#             min_dm = dm\n",
    "            \n",
    "    scat_xs = []\n",
    "    scat_ys = []\n",
    "    scat_zs = []\n",
    "    ii = 0\n",
    "    \n",
    "    for i in triggers.keys():\n",
    "#         print (triggers[i]['trigger'])\n",
    "        ax[0].plot(normalize(triggers[i]['trigger']) + ii, c='black')\n",
    "        period, x, y = triggers[i]['period']\n",
    "        ax[1].plot(x, normalize(y) + ii, c='black')   \n",
    "        dm = triggers[i]['dm'][np.argmax(triggers[i]['trigger'])]\n",
    "#         color = ((dm-min_dm)/(max_dm-min_dm))\n",
    "        scat_xs.append(period)\n",
    "        scat_ys.append(normalize(y)[period-1] + ii)\n",
    "        scat_zs.append(dm)\n",
    "#         ax[1].scatter(period, normalize(y)[period-1] + ii, c=color)\n",
    "#         periods.append(period)\n",
    "#         except IndexError:\n",
    "#             pass\n",
    "\n",
    "        ii += 2 \n",
    "\n",
    "    ax[0].set_ylabel('Trigger #')\n",
    "    ax[0].set_xlabel('SB #')\n",
    "    ax[0].set_title('Trigger')    \n",
    "    ax[1].set_xlabel('Freq')\n",
    "    ax[1].set_yticks([])\n",
    "    ax[1].set_title('fft(Trigger)')\n",
    "    \n",
    "    print (scat_zs)\n",
    "    scat = ax[1].scatter(scat_xs, scat_ys, c=scat_zs, cmap='viridis')\n",
    "    cbar = fig.colorbar(scat, ax=ax[1])\n",
    "    cbar.ax.set_ylabel('DM (pc/cc)')\n",
    "\n",
    "    ax[2].set_title('P(period)')\n",
    "    \n",
    "    periods = np.asarray(scat_xs)\n",
    "    hist = ax[2].hist(periods+1, 71, density=True, orientation='horizontal')\n",
    "    \n",
    "    ax[2].set_ylabel('Period')\n",
    "    ax[2].set_xlabel('Density')\n",
    "#     print (hist)\n",
    "\n",
    "#     plt.title(filename)\n",
    "\n",
    "    plt.tight_layout()\n",
    "    plt.savefig(outpath + filename + '.pdf')\n",
    "    plt.savefig(outpath + filename + '.png', dpi=300)\n",
    "    \n",
    "\n",
    "base_path = '../data/trigger/'\n",
    "for filename in os.listdir(base_path):\n",
    "    print (filename)\n",
    "    beams, sigs, times, dms = load_trigger_file(filename = base_path + filename,\n",
    "                                                verbose = False,\n",
    "                                                read_data = True,\n",
    "                                                read_beam=True,\n",
    "                                                replace = False)\n",
    "\n",
    "    triggers = pool_triggers(beams, sigs, times, dms)\n",
    "    plot_all(triggers, filename.split('.trigger')[0])\n",
    "    print ()"
   ]
  },
  {
   "cell_type": "code",
   "execution_count": null,
   "metadata": {},
   "outputs": [],
   "source": []
  },
  {
   "cell_type": "code",
   "execution_count": null,
   "metadata": {
    "scrolled": true
   },
   "outputs": [],
   "source": [
    "fig, ax = plt.subplots(1,1)\n",
    "\n",
    "for i in triggers.keys():\n",
    "    try:\n",
    "        ax.scatter(i, triggers[i]['period'])\n",
    "        ax.set_xlabel('Trigger #')\n",
    "        ax.set_ylabel('Period')\n",
    "#         print(i, triggers[i]['period'])\n",
    "    except:\n",
    "        pass"
   ]
  },
  {
   "cell_type": "code",
   "execution_count": null,
   "metadata": {},
   "outputs": [],
   "source": [
    "a = np.zeros((71))\n",
    "a[:] = 0\n",
    "a[::5] = 8\n",
    "# a[::14] = 10\n",
    "print (a)\n",
    "plt.figure()\n",
    "plt.plot([i for i in range(a.shape[0])], a)\n",
    "print (get_period(a)[0])\n",
    "\n",
    "np.fft.rfftfreq?\n"
   ]
  },
  {
   "cell_type": "code",
   "execution_count": null,
   "metadata": {},
   "outputs": [],
   "source": [
    "a.shape"
   ]
  },
  {
   "cell_type": "code",
   "execution_count": null,
   "metadata": {},
   "outputs": [],
   "source": [
    "# signal = np.array([-2, 8, 6, 4, 1, 0, 3, 5, -3, 4], dtype=float)\n",
    "signal = copy.deepcopy(trig)\n",
    "fourier = np.fft.rfft(signal)\n",
    "n = signal.size\n",
    "sample_rate = 1\n",
    "freq = np.fft.fftfreq(n, d=1./sample_rate)\n",
    "print (freq)\n",
    "\n",
    "freq = np.fft.rfftfreq(n, d=1./sample_rate)\n",
    "print (freq)\n",
    "\n",
    "print (fourier)"
   ]
  },
  {
   "cell_type": "code",
   "execution_count": null,
   "metadata": {},
   "outputs": [],
   "source": [
    "signal.size"
   ]
  },
  {
   "cell_type": "code",
   "execution_count": null,
   "metadata": {},
   "outputs": [],
   "source": [
    "x = np.array([0.0, 1.0, 0.0, -1.0, 0.0])\n",
    "plt.plot(x)\n",
    "\n",
    "y = np.fft.fft(x)\n",
    "plt.figure()\n",
    "plt.plot(y)\n",
    "\n",
    "yinv = np.fft.ifft(y)\n",
    "plt.figure()\n",
    "plt.plot(yinv)"
   ]
  },
  {
   "cell_type": "code",
   "execution_count": null,
   "metadata": {},
   "outputs": [],
   "source": [
    "plt.plot(trig)"
   ]
  },
  {
   "cell_type": "code",
   "execution_count": null,
   "metadata": {},
   "outputs": [],
   "source": [
    "get_period(trig)"
   ]
  },
  {
   "cell_type": "code",
   "execution_count": null,
   "metadata": {},
   "outputs": [],
   "source": [
    "trig.min()"
   ]
  },
  {
   "cell_type": "code",
   "execution_count": null,
   "metadata": {},
   "outputs": [],
   "source": [
    "trig.max()"
   ]
  },
  {
   "cell_type": "code",
   "execution_count": null,
   "metadata": {},
   "outputs": [],
   "source": [
    "trig[np.where(trig > trig.min())] = 10"
   ]
  },
  {
   "cell_type": "code",
   "execution_count": null,
   "metadata": {},
   "outputs": [],
   "source": [
    "plt.plot(triggers[2]['trigger'])\n",
    "plt.scatter(find_peaks(triggers[2]['trigger'])[0], \n",
    "            triggers[2]['trigger'][find_peaks(triggers[2]['trigger'])[0]], \n",
    "            c='red')\n",
    "\n",
    "trig = copy.deepcopy(triggers[2]['trigger'])\n",
    "trig[:] = 8\n",
    "trig[find_peaks(triggers[2]['trigger'])[0]] = 10\n",
    "\n",
    "plt.figure()\n",
    "plt.plot(trig)\n",
    "get_period(trig, plot=True)"
   ]
  },
  {
   "cell_type": "code",
   "execution_count": null,
   "metadata": {},
   "outputs": [],
   "source": [
    "find_peaks(triggers[2]['trigger'])[0]"
   ]
  },
  {
   "cell_type": "code",
   "execution_count": null,
   "metadata": {},
   "outputs": [],
   "source": [
    "L = copy.deepcopy(triggers[2]['trigger'])\n",
    "\n",
    "convolved = convolve(L)\n",
    "plt.plot(convolved[1:])\n",
    "print (np.argmax(convolved[1:len(L)]))"
   ]
  },
  {
   "cell_type": "code",
   "execution_count": null,
   "metadata": {},
   "outputs": [],
   "source": []
  },
  {
   "cell_type": "code",
   "execution_count": null,
   "metadata": {},
   "outputs": [],
   "source": []
  },
  {
   "cell_type": "code",
   "execution_count": null,
   "metadata": {},
   "outputs": [],
   "source": []
  },
  {
   "cell_type": "code",
   "execution_count": null,
   "metadata": {},
   "outputs": [],
   "source": [
    "from scipy.fft import fft\n",
    "import matplotlib.pyplot as plt\n",
    "\n",
    "\n",
    "# Number of sample points\n",
    "N = 600\n",
    "# sample spacing\n",
    "# T = 1.0 / 800.0\n",
    "T = 1\n",
    "\n",
    "x = np.linspace(0.0, N*T, N)\n",
    "y = np.sin(50.0 * 2.0*np.pi*x) + 0.5 * np.sin(80.0 * 2.0*np.pi*x)\n",
    "yf = fft(y)\n",
    "xf = np.linspace(0.0, 1.0/(2.0*T), N//2)\n",
    "\n",
    "plt.plot(x, y)\n",
    "plt.figure()\n",
    "plt.plot(xf, 2.0/N * np.abs(yf[0:N//2]))\n",
    "\n",
    "y = np.sin(50.0 * 2.0*np.pi*x) + 0.5 * np.sin(80.0 * 2.0*np.pi*x)\n",
    "y[y < 0] = 0\n",
    "yf = fft(y-y.mean())\n",
    "xf = np.linspace(0.0, 1.0/(2.0*T), N//2)\n",
    "\n",
    "plt.figure()\n",
    "plt.plot(x, y)\n",
    "plt.figure()\n",
    "plt.plot(xf, 2.0/N * np.abs(yf[0:N//2]))\n",
    "plt.axvline(xf[np.argmax(yf)], c='red')\n",
    "print (xf[np.argmax(2.0/N * np.abs(yf[0:N//2]))])"
   ]
  },
  {
   "cell_type": "code",
   "execution_count": null,
   "metadata": {},
   "outputs": [],
   "source": [
    "from scipy.fft import fft\n",
    "import matplotlib.pyplot as plt\n",
    "\n",
    "# Number of sample points\n",
    "N = triggers[2]['trigger'].shape[0]\n",
    "# sample spacing\n",
    "T = 1.0 / N\n",
    "\n",
    "x = np.linspace(0.0, N*T, N)\n",
    "y = copy.deepcopy(triggers[2]['trigger'])\n",
    "yf = fft(y-y.mean())\n",
    "xf = np.linspace(0.0, 1.0/(2.0*T), N//2)\n",
    "\n",
    "# if plot:\n",
    "plt.figure()\n",
    "plt.plot(y)\n",
    "plt.figure()\n",
    "\n",
    "yyy = 2.0/N * np.abs(yf[0:N//2])\n",
    "\n",
    "plt.plot(xf, yyy)\n",
    "period = int(xf[np.argmax(yyy)])\n",
    "plt.scatter(period, yyy[period])\n",
    "plt.axvline(period)\n",
    "print (period)\n",
    "# return int(xf[np.argmax(2.0/N * np.abs(yf[0:N//2]))])"
   ]
  },
  {
   "cell_type": "code",
   "execution_count": null,
   "metadata": {},
   "outputs": [],
   "source": [
    "plt.plot(2.0/N * np.abs(yf[0:N//2]))"
   ]
  },
  {
   "cell_type": "code",
   "execution_count": null,
   "metadata": {},
   "outputs": [],
   "source": [
    "np.argmax(2.0/N * np.abs(yf[0:N//2]))"
   ]
  },
  {
   "cell_type": "code",
   "execution_count": null,
   "metadata": {},
   "outputs": [],
   "source": [
    "triggers[2]['trigger'].shape[0]"
   ]
  },
  {
   "cell_type": "code",
   "execution_count": null,
   "metadata": {},
   "outputs": [],
   "source": [
    "get_period(triggers[0]['trigger'])"
   ]
  },
  {
   "cell_type": "code",
   "execution_count": null,
   "metadata": {},
   "outputs": [],
   "source": [
    "plt.plot(triggers[0]['trigger'])"
   ]
  },
  {
   "cell_type": "code",
   "execution_count": null,
   "metadata": {},
   "outputs": [],
   "source": [
    "for i in triggers.keys():\n",
    "    print (np.unique(triggers[i]['dm']))"
   ]
  },
  {
   "cell_type": "code",
   "execution_count": null,
   "metadata": {},
   "outputs": [],
   "source": []
  }
 ],
 "metadata": {
  "kernelspec": {
   "display_name": "Python 3",
   "language": "python",
   "name": "python3"
  },
  "language_info": {
   "codemirror_mode": {
    "name": "ipython",
    "version": 3
   },
   "file_extension": ".py",
   "mimetype": "text/x-python",
   "name": "python",
   "nbconvert_exporter": "python",
   "pygments_lexer": "ipython3",
   "version": "3.7.6"
  }
 },
 "nbformat": 4,
 "nbformat_minor": 2
}
